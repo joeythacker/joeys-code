{
 "cells": [
  {
   "cell_type": "code",
   "execution_count": 1,
   "id": "98e81358",
   "metadata": {},
   "outputs": [
    {
     "name": "stdout",
     "output_type": "stream",
     "text": [
      "Enter the year of the car: 2022\n",
      "Enter the make of the car: Toyota\n",
      "Enter the model of the car: Corolla\n",
      "Enter the number of doors (2 or 4): 4\n",
      "Enter the type of roof (solid or sun roof): Sun\n",
      "car\n",
      "2022\n",
      "Toyota\n",
      "Corolla\n",
      "4\n",
      "Sun\n"
     ]
    }
   ],
   "source": [
    "class Vehicle:\n",
    "    def __init__(self, vehicle_type):\n",
    "        self.vehicle_type = vehicle_type\n",
    "\n",
    "class Automobile(Vehicle):\n",
    "    def __init__(self, vehicle_type):\n",
    "        super().__init__(vehicle_type)\n",
    "        self.year = None\n",
    "        self.make = None\n",
    "        self.model = None\n",
    "        self.doors = None\n",
    "        self.roof = None\n",
    "\n",
    "    def get_details_from_user(self):\n",
    "        self.year = input(\"Enter the year of the car: \")\n",
    "        self.make = input(\"Enter the make of the car: \")\n",
    "        self.model = input(\"Enter the model of the car: \")\n",
    "        self.doors = input(\"Enter the number of doors (2 or 4): \")\n",
    "        self.roof = input(\"Enter the type of roof (solid or sun roof): \")\n",
    "\n",
    "car = Automobile(\"car\")\n",
    "car.get_details_from_user()\n",
    "\n",
    "# example output\n",
    "print(car.vehicle_type) # car\n",
    "print(car.year) # 2022\n",
    "print(car.make) # Toyota\n",
    "print(car.model) # Corolla\n",
    "print(car.doors) # 4\n",
    "print(car.roof) # sun roof"
   ]
  },
  {
   "cell_type": "code",
   "execution_count": null,
   "id": "9a8fb1f1",
   "metadata": {},
   "outputs": [],
   "source": []
  }
 ],
 "metadata": {
  "kernelspec": {
   "display_name": "Python 3 (ipykernel)",
   "language": "python",
   "name": "python3"
  },
  "language_info": {
   "codemirror_mode": {
    "name": "ipython",
    "version": 3
   },
   "file_extension": ".py",
   "mimetype": "text/x-python",
   "name": "python",
   "nbconvert_exporter": "python",
   "pygments_lexer": "ipython3",
   "version": "3.10.9"
  }
 },
 "nbformat": 4,
 "nbformat_minor": 5
}
