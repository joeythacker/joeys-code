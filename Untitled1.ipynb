{
 "cells": [
  {
   "cell_type": "code",
   "execution_count": 2,
   "id": "9b73d8b2",
   "metadata": {},
   "outputs": [
    {
     "name": "stdout",
     "output_type": "stream",
     "text": [
      "There are 3600 seconds in an hour.\n",
      "There are 86400 seconds in a day.\n",
      "Floating-point division: 24.0\n",
      "Integer division: 24\n"
     ]
    }
   ],
   "source": [
    "seconds_in_minute=60\n",
    "seconds_in_hour=seconds_in_minute*60\n",
    "print(\"There are\", seconds_in_hour, \"seconds in an hour.\")\n",
    "\n",
    "seconds_per_hour = seconds_in_hour\n",
    "\n",
    "hours_in_day = 24\n",
    "seconds_per_day = seconds_per_hour * hours_in_day\n",
    "print(\"There are\", seconds_per_day, \"seconds in a day.\")\n",
    "\n",
    "seconds_per_day = seconds_per_hour * 24\n",
    "\n",
    "float_division = seconds_per_day / seconds_per_hour\n",
    "print(\"Floating-point division:\", float_division)\n",
    "\n",
    "integer_division = seconds_per_day // seconds_per_hour\n",
    "print(\"Integer division:\", integer_division)"
   ]
  },
  {
   "cell_type": "code",
   "execution_count": null,
   "id": "ec2ef62f",
   "metadata": {},
   "outputs": [],
   "source": []
  }
 ],
 "metadata": {
  "kernelspec": {
   "display_name": "Python 3 (ipykernel)",
   "language": "python",
   "name": "python3"
  },
  "language_info": {
   "codemirror_mode": {
    "name": "ipython",
    "version": 3
   },
   "file_extension": ".py",
   "mimetype": "text/x-python",
   "name": "python",
   "nbconvert_exporter": "python",
   "pygments_lexer": "ipython3",
   "version": "3.10.9"
  }
 },
 "nbformat": 4,
 "nbformat_minor": 5
}
